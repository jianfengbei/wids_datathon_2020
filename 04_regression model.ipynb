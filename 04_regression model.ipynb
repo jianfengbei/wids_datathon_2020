{
 "cells": [
  {
   "cell_type": "markdown",
   "metadata": {},
   "source": [
    "This step is to run logistic regression model."
   ]
  },
  {
   "cell_type": "markdown",
   "metadata": {},
   "source": [
    "# Import modules"
   ]
  },
  {
   "cell_type": "code",
   "execution_count": 1,
   "metadata": {},
   "outputs": [],
   "source": [
    "import numpy as np\n",
    "import pandas as pd\n",
    "from matplotlib import pyplot as plt\n",
    "from sklearn.model_selection import train_test_split\n",
    "from sklearn.linear_model import LogisticRegression\n",
    "from sklearn.metrics import confusion_matrix"
   ]
  },
  {
   "cell_type": "markdown",
   "metadata": {},
   "source": [
    "# Exploratory analysis on the new data set"
   ]
  },
  {
   "cell_type": "code",
   "execution_count": 2,
   "metadata": {},
   "outputs": [],
   "source": [
    "reg_df=pd.read_csv('reg_df.csv',index_col=0)"
   ]
  },
  {
   "cell_type": "code",
   "execution_count": 3,
   "metadata": {
    "scrolled": true
   },
   "outputs": [
    {
     "data": {
      "text/html": [
       "<div>\n",
       "<style scoped>\n",
       "    .dataframe tbody tr th:only-of-type {\n",
       "        vertical-align: middle;\n",
       "    }\n",
       "\n",
       "    .dataframe tbody tr th {\n",
       "        vertical-align: top;\n",
       "    }\n",
       "\n",
       "    .dataframe thead th {\n",
       "        text-align: right;\n",
       "    }\n",
       "</style>\n",
       "<table border=\"1\" class=\"dataframe\">\n",
       "  <thead>\n",
       "    <tr style=\"text-align: right;\">\n",
       "      <th></th>\n",
       "      <th>hospital_death</th>\n",
       "      <th>age</th>\n",
       "      <th>fac_surgery</th>\n",
       "      <th>fac_apache</th>\n",
       "      <th>fac_d1_h1</th>\n",
       "      <th>fac_calcium</th>\n",
       "      <th>fac_albumin</th>\n",
       "    </tr>\n",
       "  </thead>\n",
       "  <tbody>\n",
       "    <tr>\n",
       "      <th>0</th>\n",
       "      <td>0</td>\n",
       "      <td>68.0</td>\n",
       "      <td>-0.510279</td>\n",
       "      <td>-0.476342</td>\n",
       "      <td>1.999844</td>\n",
       "      <td>-0.502944</td>\n",
       "      <td>-0.510279</td>\n",
       "    </tr>\n",
       "    <tr>\n",
       "      <th>1</th>\n",
       "      <td>0</td>\n",
       "      <td>77.0</td>\n",
       "      <td>-0.508546</td>\n",
       "      <td>-0.468595</td>\n",
       "      <td>1.999702</td>\n",
       "      <td>-0.501839</td>\n",
       "      <td>-0.520722</td>\n",
       "    </tr>\n",
       "    <tr>\n",
       "      <th>2</th>\n",
       "      <td>0</td>\n",
       "      <td>25.0</td>\n",
       "      <td>-0.507723</td>\n",
       "      <td>-0.478581</td>\n",
       "      <td>1.999878</td>\n",
       "      <td>-0.506517</td>\n",
       "      <td>-0.507057</td>\n",
       "    </tr>\n",
       "    <tr>\n",
       "      <th>3</th>\n",
       "      <td>0</td>\n",
       "      <td>81.0</td>\n",
       "      <td>-0.507536</td>\n",
       "      <td>-0.479875</td>\n",
       "      <td>1.999892</td>\n",
       "      <td>-0.505867</td>\n",
       "      <td>-0.506614</td>\n",
       "    </tr>\n",
       "    <tr>\n",
       "      <th>4</th>\n",
       "      <td>0</td>\n",
       "      <td>19.0</td>\n",
       "      <td>-0.506768</td>\n",
       "      <td>-0.481848</td>\n",
       "      <td>1.999912</td>\n",
       "      <td>-0.505325</td>\n",
       "      <td>-0.505971</td>\n",
       "    </tr>\n",
       "  </tbody>\n",
       "</table>\n",
       "</div>"
      ],
      "text/plain": [
       "   hospital_death   age  fac_surgery  fac_apache  fac_d1_h1  fac_calcium  \\\n",
       "0               0  68.0    -0.510279   -0.476342   1.999844    -0.502944   \n",
       "1               0  77.0    -0.508546   -0.468595   1.999702    -0.501839   \n",
       "2               0  25.0    -0.507723   -0.478581   1.999878    -0.506517   \n",
       "3               0  81.0    -0.507536   -0.479875   1.999892    -0.505867   \n",
       "4               0  19.0    -0.506768   -0.481848   1.999912    -0.505325   \n",
       "\n",
       "   fac_albumin  \n",
       "0    -0.510279  \n",
       "1    -0.520722  \n",
       "2    -0.507057  \n",
       "3    -0.506614  \n",
       "4    -0.505971  "
      ]
     },
     "execution_count": 3,
     "metadata": {},
     "output_type": "execute_result"
    }
   ],
   "source": [
    "reg_df.head()"
   ]
  },
  {
   "cell_type": "code",
   "execution_count": 4,
   "metadata": {},
   "outputs": [
    {
     "name": "stdout",
     "output_type": "stream",
     "text": [
      "<class 'pandas.core.frame.DataFrame'>\n",
      "Int64Index: 91713 entries, 0 to 91712\n",
      "Data columns (total 7 columns):\n",
      " #   Column          Non-Null Count  Dtype  \n",
      "---  ------          --------------  -----  \n",
      " 0   hospital_death  91713 non-null  int64  \n",
      " 1   age             91713 non-null  float64\n",
      " 2   fac_surgery     91713 non-null  float64\n",
      " 3   fac_apache      91713 non-null  float64\n",
      " 4   fac_d1_h1       91713 non-null  float64\n",
      " 5   fac_calcium     91713 non-null  float64\n",
      " 6   fac_albumin     91713 non-null  float64\n",
      "dtypes: float64(6), int64(1)\n",
      "memory usage: 5.6 MB\n"
     ]
    }
   ],
   "source": [
    "reg_df.info(verbose=True, null_counts=True) #to see length and dtypes"
   ]
  },
  {
   "cell_type": "code",
   "execution_count": 5,
   "metadata": {
    "scrolled": false
   },
   "outputs": [
    {
     "data": {
      "text/html": [
       "<div>\n",
       "<style scoped>\n",
       "    .dataframe tbody tr th:only-of-type {\n",
       "        vertical-align: middle;\n",
       "    }\n",
       "\n",
       "    .dataframe tbody tr th {\n",
       "        vertical-align: top;\n",
       "    }\n",
       "\n",
       "    .dataframe thead th {\n",
       "        text-align: right;\n",
       "    }\n",
       "</style>\n",
       "<table border=\"1\" class=\"dataframe\">\n",
       "  <thead>\n",
       "    <tr style=\"text-align: right;\">\n",
       "      <th></th>\n",
       "      <th>hospital_death</th>\n",
       "      <th>age</th>\n",
       "      <th>fac_surgery</th>\n",
       "      <th>fac_apache</th>\n",
       "      <th>fac_d1_h1</th>\n",
       "      <th>fac_calcium</th>\n",
       "      <th>fac_albumin</th>\n",
       "    </tr>\n",
       "  </thead>\n",
       "  <tbody>\n",
       "    <tr>\n",
       "      <th>count</th>\n",
       "      <td>91713.000000</td>\n",
       "      <td>91713.000000</td>\n",
       "      <td>91713.000000</td>\n",
       "      <td>91713.000000</td>\n",
       "      <td>91713.000000</td>\n",
       "      <td>91713.000000</td>\n",
       "      <td>91713.000000</td>\n",
       "    </tr>\n",
       "    <tr>\n",
       "      <th>mean</th>\n",
       "      <td>0.086302</td>\n",
       "      <td>62.309516</td>\n",
       "      <td>-0.507236</td>\n",
       "      <td>-0.480094</td>\n",
       "      <td>1.999205</td>\n",
       "      <td>-0.505549</td>\n",
       "      <td>-0.506326</td>\n",
       "    </tr>\n",
       "    <tr>\n",
       "      <th>std</th>\n",
       "      <td>0.280811</td>\n",
       "      <td>16.383883</td>\n",
       "      <td>0.012858</td>\n",
       "      <td>0.019927</td>\n",
       "      <td>0.050661</td>\n",
       "      <td>0.012868</td>\n",
       "      <td>0.012746</td>\n",
       "    </tr>\n",
       "    <tr>\n",
       "      <th>min</th>\n",
       "      <td>0.000000</td>\n",
       "      <td>16.000000</td>\n",
       "      <td>-1.111907</td>\n",
       "      <td>-0.562180</td>\n",
       "      <td>-1.999987</td>\n",
       "      <td>-0.630196</td>\n",
       "      <td>-0.762244</td>\n",
       "    </tr>\n",
       "    <tr>\n",
       "      <th>25%</th>\n",
       "      <td>0.000000</td>\n",
       "      <td>53.000000</td>\n",
       "      <td>-0.508938</td>\n",
       "      <td>-0.486066</td>\n",
       "      <td>1.999842</td>\n",
       "      <td>-0.507534</td>\n",
       "      <td>-0.508054</td>\n",
       "    </tr>\n",
       "    <tr>\n",
       "      <th>50%</th>\n",
       "      <td>0.000000</td>\n",
       "      <td>64.000000</td>\n",
       "      <td>-0.506660</td>\n",
       "      <td>-0.481877</td>\n",
       "      <td>1.999911</td>\n",
       "      <td>-0.505565</td>\n",
       "      <td>-0.505910</td>\n",
       "    </tr>\n",
       "    <tr>\n",
       "      <th>75%</th>\n",
       "      <td>0.000000</td>\n",
       "      <td>75.000000</td>\n",
       "      <td>-0.505088</td>\n",
       "      <td>-0.475889</td>\n",
       "      <td>1.999947</td>\n",
       "      <td>-0.503963</td>\n",
       "      <td>-0.504398</td>\n",
       "    </tr>\n",
       "    <tr>\n",
       "      <th>max</th>\n",
       "      <td>1.000000</td>\n",
       "      <td>89.000000</td>\n",
       "      <td>0.497714</td>\n",
       "      <td>1.619016</td>\n",
       "      <td>2.000000</td>\n",
       "      <td>0.497714</td>\n",
       "      <td>0.506846</td>\n",
       "    </tr>\n",
       "  </tbody>\n",
       "</table>\n",
       "</div>"
      ],
      "text/plain": [
       "       hospital_death           age   fac_surgery    fac_apache     fac_d1_h1  \\\n",
       "count    91713.000000  91713.000000  91713.000000  91713.000000  91713.000000   \n",
       "mean         0.086302     62.309516     -0.507236     -0.480094      1.999205   \n",
       "std          0.280811     16.383883      0.012858      0.019927      0.050661   \n",
       "min          0.000000     16.000000     -1.111907     -0.562180     -1.999987   \n",
       "25%          0.000000     53.000000     -0.508938     -0.486066      1.999842   \n",
       "50%          0.000000     64.000000     -0.506660     -0.481877      1.999911   \n",
       "75%          0.000000     75.000000     -0.505088     -0.475889      1.999947   \n",
       "max          1.000000     89.000000      0.497714      1.619016      2.000000   \n",
       "\n",
       "        fac_calcium   fac_albumin  \n",
       "count  91713.000000  91713.000000  \n",
       "mean      -0.505549     -0.506326  \n",
       "std        0.012868      0.012746  \n",
       "min       -0.630196     -0.762244  \n",
       "25%       -0.507534     -0.508054  \n",
       "50%       -0.505565     -0.505910  \n",
       "75%       -0.503963     -0.504398  \n",
       "max        0.497714      0.506846  "
      ]
     },
     "execution_count": 5,
     "metadata": {},
     "output_type": "execute_result"
    }
   ],
   "source": [
    "reg_df.describe()"
   ]
  },
  {
   "cell_type": "code",
   "execution_count": 6,
   "metadata": {
    "scrolled": false
   },
   "outputs": [
    {
     "data": {
      "image/png": "[encoded data removed]",
      "text/plain": [
       "<Figure size 432x288 with 1 Axes>"
      ]
     },
     "metadata": {
      "needs_background": "light"
     },
     "output_type": "display_data"
    }
   ],
   "source": [
    "plt.scatter(reg_df.iloc[:,1],reg_df['hospital_death'],c = reg_df['hospital_death'], cmap='rainbow')\n",
    "plt.show()"
   ]
  },
  {
   "cell_type": "markdown",
   "metadata": {},
   "source": [
    "# Logistic regression model"
   ]
  },
  {
   "cell_type": "code",
   "execution_count": 7,
   "metadata": {},
   "outputs": [],
   "source": [
    "def logi_confmatrix(df, dependent_var):\n",
    "    '''split data set, \n",
    "    run logistic regression model, \n",
    "    show coeficient & intercept in the predictive model,\n",
    "    and finally displace confusion matrix.'''\n",
    "    #split data\n",
    "    y=df[dependent_var]\n",
    "    x=df.iloc[:,1:]\n",
    "    x_train,x_test,y_train,y_test = train_test_split(x,y,random_state=1)\n",
    "    #logistic regression model\n",
    "    log_reg = LogisticRegression()\n",
    "    lr=log_reg.fit(x_train,y_train)\n",
    "    #show Coeficient and Intercept\n",
    "    print('The coeficient for predictive model is:')\n",
    "    print(lr.coef_)\n",
    "    print('                           ')\n",
    "    print('The intercept for predictive model is:')\n",
    "    print(lr.intercept_)\n",
    "    #prediction\n",
    "    y_pred = lr.predict(x_test)\n",
    "    #displace confusion matrix\n",
    "    print('                           ')\n",
    "    print('In the confusion matrix:')\n",
    "    print(confusion_matrix(y_test, y_pred))\n",
    "    print('It is concluded that:')\n",
    "    print('True - positive: '+ str(confusion_matrix(y_test, y_pred)[0][0])+' (upper-left) number of survivals is predicted correctly;')\n",
    "    print('True - negative: '+ str(confusion_matrix(y_test, y_pred)[0][1])+' (lower-right) number of deaths is predicted correctly;')\n",
    "    print('False - positive: '+ str(confusion_matrix(y_test, y_pred)[1][0])+' (top-right) number of survivals is predicted wrongly;')\n",
    "    print('False - negative: '+ str(confusion_matrix(y_test, y_pred)[1][1])+' (lower-left) number of deaths is predicted wrongly.')\n",
    "    print('                           ')\n",
    "    print('sensitivity = true positive/(true positive + false negative) = ' + str(round(confusion_matrix(y_test, y_pred)[0][0]/(confusion_matrix(y_test, y_pred)[0][0]+confusion_matrix(y_test, y_pred)[1][1])*100,2))+'%')\n",
    "    print('specificity = true negative/(true negative + false positive) = ' + str(round(confusion_matrix(y_test, y_pred)[0][1]/(confusion_matrix(y_test, y_pred)[0][1]+confusion_matrix(y_test, y_pred)[1][0])*100,2))+'%')\n",
    "    "
   ]
  },
  {
   "cell_type": "code",
   "execution_count": 8,
   "metadata": {
    "scrolled": true
   },
   "outputs": [
    {
     "name": "stdout",
     "output_type": "stream",
     "text": [
      "The coeficient for predictive model is:\n",
      "[[ 0.02639175 -0.19811095 -3.75239716  0.94315099  2.49518734  0.51216978]]\n",
      "                           \n",
      "The intercept for predictive model is:\n",
      "[-6.35089063]\n",
      "                           \n",
      "In the confusion matrix:\n",
      "[[20922     0]\n",
      " [ 2007     0]]\n",
      "It is concluded that:\n",
      "True - positive: 20922 (upper-left) number of survivals is predicted correctly;\n",
      "True - negative: 0 (lower-right) number of deaths is predicted correctly;\n",
      "False - positive: 2007 (top-right) number of survivals is predicted wrongly;\n",
      "False - negative: 0 (lower-left) number of deaths is predicted wrongly.\n",
      "                           \n",
      "sensitivity = true positive/(true positive + false negative) = 100.0%\n",
      "specificity = true negative/(true negative + false positive) = 0.0%\n"
     ]
    }
   ],
   "source": [
    "logi_confmatrix(reg_df, 'hospital_death')"
   ]
  },
  {
   "cell_type": "markdown",
   "metadata": {},
   "source": [
    "Therefore, this imbalanced data set causes the correct prediction of suvivals only. \n",
    "\n",
    "Resampling will be considered. "
   ]
  },
  {
   "cell_type": "markdown",
   "metadata": {},
   "source": [
    "# Resampling - oversampling"
   ]
  },
  {
   "cell_type": "code",
   "execution_count": 9,
   "metadata": {
    "scrolled": false
   },
   "outputs": [
    {
     "data": {
      "text/html": [
       "<div>\n",
       "<style scoped>\n",
       "    .dataframe tbody tr th:only-of-type {\n",
       "        vertical-align: middle;\n",
       "    }\n",
       "\n",
       "    .dataframe tbody tr th {\n",
       "        vertical-align: top;\n",
       "    }\n",
       "\n",
       "    .dataframe thead th {\n",
       "        text-align: right;\n",
       "    }\n",
       "</style>\n",
       "<table border=\"1\" class=\"dataframe\">\n",
       "  <thead>\n",
       "    <tr style=\"text-align: right;\">\n",
       "      <th></th>\n",
       "      <th>hospital_death</th>\n",
       "      <th>age</th>\n",
       "      <th>fac_surgery</th>\n",
       "      <th>fac_apache</th>\n",
       "      <th>fac_d1_h1</th>\n",
       "      <th>fac_calcium</th>\n",
       "      <th>fac_albumin</th>\n",
       "    </tr>\n",
       "  </thead>\n",
       "  <tbody>\n",
       "    <tr>\n",
       "      <th>0</th>\n",
       "      <td>0</td>\n",
       "      <td>68.000000</td>\n",
       "      <td>-0.510279</td>\n",
       "      <td>-0.476342</td>\n",
       "      <td>1.999844</td>\n",
       "      <td>-0.502944</td>\n",
       "      <td>-0.510279</td>\n",
       "    </tr>\n",
       "    <tr>\n",
       "      <th>1</th>\n",
       "      <td>0</td>\n",
       "      <td>77.000000</td>\n",
       "      <td>-0.508546</td>\n",
       "      <td>-0.468595</td>\n",
       "      <td>1.999702</td>\n",
       "      <td>-0.501839</td>\n",
       "      <td>-0.520722</td>\n",
       "    </tr>\n",
       "    <tr>\n",
       "      <th>2</th>\n",
       "      <td>0</td>\n",
       "      <td>25.000000</td>\n",
       "      <td>-0.507723</td>\n",
       "      <td>-0.478581</td>\n",
       "      <td>1.999878</td>\n",
       "      <td>-0.506517</td>\n",
       "      <td>-0.507057</td>\n",
       "    </tr>\n",
       "    <tr>\n",
       "      <th>3</th>\n",
       "      <td>0</td>\n",
       "      <td>81.000000</td>\n",
       "      <td>-0.507536</td>\n",
       "      <td>-0.479875</td>\n",
       "      <td>1.999892</td>\n",
       "      <td>-0.505867</td>\n",
       "      <td>-0.506614</td>\n",
       "    </tr>\n",
       "    <tr>\n",
       "      <th>4</th>\n",
       "      <td>0</td>\n",
       "      <td>19.000000</td>\n",
       "      <td>-0.506768</td>\n",
       "      <td>-0.481848</td>\n",
       "      <td>1.999912</td>\n",
       "      <td>-0.505325</td>\n",
       "      <td>-0.505971</td>\n",
       "    </tr>\n",
       "    <tr>\n",
       "      <th>...</th>\n",
       "      <td>...</td>\n",
       "      <td>...</td>\n",
       "      <td>...</td>\n",
       "      <td>...</td>\n",
       "      <td>...</td>\n",
       "      <td>...</td>\n",
       "      <td>...</td>\n",
       "    </tr>\n",
       "    <tr>\n",
       "      <th>170858</th>\n",
       "      <td>1</td>\n",
       "      <td>19.000000</td>\n",
       "      <td>-0.510002</td>\n",
       "      <td>-0.474757</td>\n",
       "      <td>1.999830</td>\n",
       "      <td>-0.506800</td>\n",
       "      <td>-0.508271</td>\n",
       "    </tr>\n",
       "    <tr>\n",
       "      <th>170859</th>\n",
       "      <td>1</td>\n",
       "      <td>74.000000</td>\n",
       "      <td>-0.508058</td>\n",
       "      <td>-0.481055</td>\n",
       "      <td>1.999902</td>\n",
       "      <td>-0.507356</td>\n",
       "      <td>-0.503433</td>\n",
       "    </tr>\n",
       "    <tr>\n",
       "      <th>170860</th>\n",
       "      <td>1</td>\n",
       "      <td>62.309516</td>\n",
       "      <td>-0.506097</td>\n",
       "      <td>-0.482415</td>\n",
       "      <td>1.999918</td>\n",
       "      <td>-0.506097</td>\n",
       "      <td>-0.505308</td>\n",
       "    </tr>\n",
       "    <tr>\n",
       "      <th>170861</th>\n",
       "      <td>1</td>\n",
       "      <td>59.000000</td>\n",
       "      <td>-0.497610</td>\n",
       "      <td>-0.497610</td>\n",
       "      <td>1.999986</td>\n",
       "      <td>-0.497610</td>\n",
       "      <td>-0.507155</td>\n",
       "    </tr>\n",
       "    <tr>\n",
       "      <th>170862</th>\n",
       "      <td>1</td>\n",
       "      <td>65.000000</td>\n",
       "      <td>-0.511459</td>\n",
       "      <td>-0.465304</td>\n",
       "      <td>1.999680</td>\n",
       "      <td>-0.511459</td>\n",
       "      <td>-0.511459</td>\n",
       "    </tr>\n",
       "  </tbody>\n",
       "</table>\n",
       "<p>170863 rows × 7 columns</p>\n",
       "</div>"
      ],
      "text/plain": [
       "        hospital_death        age  fac_surgery  fac_apache  fac_d1_h1  \\\n",
       "0                    0  68.000000    -0.510279   -0.476342   1.999844   \n",
       "1                    0  77.000000    -0.508546   -0.468595   1.999702   \n",
       "2                    0  25.000000    -0.507723   -0.478581   1.999878   \n",
       "3                    0  81.000000    -0.507536   -0.479875   1.999892   \n",
       "4                    0  19.000000    -0.506768   -0.481848   1.999912   \n",
       "...                ...        ...          ...         ...        ...   \n",
       "170858               1  19.000000    -0.510002   -0.474757   1.999830   \n",
       "170859               1  74.000000    -0.508058   -0.481055   1.999902   \n",
       "170860               1  62.309516    -0.506097   -0.482415   1.999918   \n",
       "170861               1  59.000000    -0.497610   -0.497610   1.999986   \n",
       "170862               1  65.000000    -0.511459   -0.465304   1.999680   \n",
       "\n",
       "        fac_calcium  fac_albumin  \n",
       "0         -0.502944    -0.510279  \n",
       "1         -0.501839    -0.520722  \n",
       "2         -0.506517    -0.507057  \n",
       "3         -0.505867    -0.506614  \n",
       "4         -0.505325    -0.505971  \n",
       "...             ...          ...  \n",
       "170858    -0.506800    -0.508271  \n",
       "170859    -0.507356    -0.503433  \n",
       "170860    -0.506097    -0.505308  \n",
       "170861    -0.497610    -0.507155  \n",
       "170862    -0.511459    -0.511459  \n",
       "\n",
       "[170863 rows x 7 columns]"
      ]
     },
     "execution_count": 9,
     "metadata": {},
     "output_type": "execute_result"
    }
   ],
   "source": [
    "# Replicate samples from minority class for 10 times\n",
    "add_df = reg_df[reg_df['hospital_death'] ==1]\n",
    "for col in range(1,10):\n",
    "    add_df=add_df.append(reg_df[reg_df['hospital_death'] ==1],ignore_index=False)\n",
    "\n",
    "reg_resampled_df=reg_df.append(add_df,ignore_index=True)\n",
    "reg_resampled_df"
   ]
  },
  {
   "cell_type": "markdown",
   "metadata": {},
   "source": [
    "# Logistic regression model on resampled data set"
   ]
  },
  {
   "cell_type": "code",
   "execution_count": 10,
   "metadata": {
    "scrolled": true
   },
   "outputs": [
    {
     "name": "stdout",
     "output_type": "stream",
     "text": [
      "The coeficient for predictive model is:\n",
      "[[ 0.02724559 -0.7792873  -6.51853597  0.17969166  5.93295892  1.1851727 ]]\n",
      "                           \n",
      "The intercept for predictive model is:\n",
      "[-2.02328737]\n",
      "                           \n",
      "In the confusion matrix:\n",
      "[[10710 10361]\n",
      " [ 7545 14100]]\n",
      "It is concluded that:\n",
      "True - positive: 10710 (upper-left) number of survivals is predicted correctly;\n",
      "True - negative: 10361 (lower-right) number of deaths is predicted correctly;\n",
      "False - positive: 7545 (top-right) number of survivals is predicted wrongly;\n",
      "False - negative: 14100 (lower-left) number of deaths is predicted wrongly.\n",
      "                           \n",
      "sensitivity = true positive/(true positive + false negative) = 43.17%\n",
      "specificity = true negative/(true negative + false positive) = 57.86%\n"
     ]
    }
   ],
   "source": [
    "logi_confmatrix(reg_resampled_df, 'hospital_death')"
   ]
  },
  {
   "cell_type": "markdown",
   "metadata": {},
   "source": [
    "The sensitivity of resampled logistic regression model reduces compared to the original model, though specificity improves."
   ]
  },
  {
   "cell_type": "markdown",
   "metadata": {},
   "source": [
    "In total,\n",
    "\n",
    "logistic regression model is underfitting thus unsuitable for survival rate prediction in the test data set. \n",
    "\n",
    "A non-linear model is to be considered. "
   ]
  }
 ],
 "metadata": {
  "kernelspec": {
   "display_name": "Python 3",
   "language": "python",
   "name": "python3"
  },
  "language_info": {
   "codemirror_mode": {
    "name": "ipython",
    "version": 3
   },
   "file_extension": ".py",
   "mimetype": "text/x-python",
   "name": "python",
   "nbconvert_exporter": "python",
   "pygments_lexer": "ipython3",
   "version": "3.7.7"
  }
 },
 "nbformat": 4,
 "nbformat_minor": 4
}
