{
 "cells": [
  {
   "cell_type": "markdown",
   "metadata": {},
   "source": [
    "This step is to impute missing data on features."
   ]
  },
  {
   "cell_type": "markdown",
   "metadata": {},
   "source": [
    "# Import modules"
   ]
  },
  {
   "cell_type": "code",
   "execution_count": 1,
   "metadata": {},
   "outputs": [],
   "source": [
    "import numpy as np\n",
    "import pandas as pd\n",
    "import matplotlib.pyplot as plt\n"
   ]
  },
  {
   "cell_type": "markdown",
   "metadata": {},
   "source": [
    "# Define functions"
   ]
  },
  {
   "cell_type": "code",
   "execution_count": 4,
   "metadata": {},
   "outputs": [],
   "source": [
    "# Define function for missing clarification\n",
    "def del_missing(df,col_name):\n",
    "    '''Check distribution of death rate without missing data. \n",
    "    col_name = column of missing data'''\n",
    "    non_missing_crit = df[col_name].notnull()\n",
    "    non_missing_df = df[non_missing_crit]\n",
    "    diff = round(round(non_missing_df.hospital_death.mean()*100,2) - round(df.hospital_death.mean()*100,2),2)\n",
    "    print('If delete missing records in '+ col_name +': ')\n",
    "    if diff <0:\n",
    "        print('The percentage of death in the new data set is ' + str(diff)+'% lower than train_df.')\n",
    "    else:\n",
    "        print('The percentage of death in the new data set is ' + str(diff)+'% higher than train_df: ' + str(round(non_missing_df.hospital_death.mean()*100,2))+'%.')\n",
    "    "
   ]
  },
  {
   "cell_type": "code",
   "execution_count": 5,
   "metadata": {},
   "outputs": [],
   "source": [
    "# Define feature function\n",
    "def plot_feature(df, col):\n",
    "    '''\n",
    "    make plot for each features\n",
    "    left, the distribution of samples on the feature\n",
    "    right, the dependance of death on the feature'''\n",
    "    plt.figure(figsize = (14,6))\n",
    "    plt.subplot(1,2,1)\n",
    "    if df[col].dtype == 'float64' or df[col].dtype == 'int64':\n",
    "        df[col].value_counts().sort_index().plot()\n",
    "        plt.xticks(rotation=45)\n",
    "    else:\n",
    "        mean=df.groupby(col)['hospital_death'].mean()\n",
    "        df[col]=df[col].astype('category') \n",
    "        levels=mean.sort_values().index.tolist()\n",
    "        df[col].cat.reorder_categories(levels,inplace=True)\n",
    "        df[col].value_counts().plot()\n",
    "        #plt.xticks(levels,rotation=45)\n",
    "    plt.xlabel(col)\n",
    "    plt.ylabel('Counts')\n",
    "    plt.title('Distribution of '+col)\n",
    "    \n",
    "    plt.subplot(1,2,2)   \n",
    "    if df[col].dtype == 'int64' or df[col].dtype == 'float64':\n",
    "        mean_x=df.groupby(col)['hospital_death'].mean()\n",
    "        mean_x.plot()\n",
    "        plt.xticks(rotation=45)\n",
    "    else:\n",
    "        mean_x=df.groupby(col)['hospital_death'].mean().sort_values()\n",
    "        levels=mean_x.sort_values().index.tolist()\n",
    "        plt.scatter(mean_x.sort_values().index,mean_x)\n",
    "        plt.xticks(levels,rotation=45) \n",
    "    plt.xlabel(col)\n",
    "    plt.ylabel('Percent of death')\n",
    "    plt.title('Percent of death by '+col)\n",
    "    plt.show()"
   ]
  },
  {
   "cell_type": "markdown",
   "metadata": {},
   "source": [
    "# Import data set"
   ]
  },
  {
   "cell_type": "code",
   "execution_count": 2,
   "metadata": {},
   "outputs": [],
   "source": [
    "train_df=pd.read_csv('train_df.csv',index_col=0)"
   ]
  },
  {
   "cell_type": "code",
   "execution_count": null,
   "metadata": {},
   "outputs": [],
   "source": [
    "## identify categorical variables\n",
    "for col in train_df.columns.to_list():\n",
    "    if train_df[col].dtype == 'object':\n",
    "        train_df[col]=train_df[col].astype('category')\n",
    "train_df.to_csv('train_df.csv')"
   ]
  },
  {
   "cell_type": "code",
   "execution_count": 6,
   "metadata": {},
   "outputs": [],
   "source": [
    "# generate new df of selected vars:\n",
    "int_cols_selected = ['elective_surgery','apache_post_operative']\n",
    "numeric_cols_selected = ['age', 'gcs_eyes_apache', 'gcs_motor_apache', 'gcs_verbal_apache', 'd1_diasbp_min', 'd1_diasbp_noninvasive_min', 'd1_mbp_min', 'd1_mbp_noninvasive_min', 'd1_sysbp_min', 'd1_sysbp_noninvasive_min', 'h1_diasbp_noninvasive_min', 'h1_mbp_min', 'h1_mbp_noninvasive_min', 'h1_sysbp_min', 'h1_sysbp_noninvasive_min', 'd1_calcium_min','d1_calcium_max', 'albumin_apache', 'd1_albumin_max', 'd1_albumin_min']\n",
    "categorical_cols_selected = ['ethnicity','gender','icu_admit_source','hospital_admit_source','icu_stay_type','icu_type','apache_3j_bodysystem','apache_2_bodysystem']\n",
    "\n",
    "var_list = ['hospital_death'] + int_cols_selected + numeric_cols_selected + categorical_cols_selected\n",
    "\n",
    "train_df_miss = train_df[var_list]\n"
   ]
  },
  {
   "cell_type": "code",
   "execution_count": 7,
   "metadata": {
    "scrolled": true
   },
   "outputs": [
    {
     "data": {
      "text/html": [
       "<div>\n",
       "<style scoped>\n",
       "    .dataframe tbody tr th:only-of-type {\n",
       "        vertical-align: middle;\n",
       "    }\n",
       "\n",
       "    .dataframe tbody tr th {\n",
       "        vertical-align: top;\n",
       "    }\n",
       "\n",
       "    .dataframe thead th {\n",
       "        text-align: right;\n",
       "    }\n",
       "</style>\n",
       "<table border=\"1\" class=\"dataframe\">\n",
       "  <thead>\n",
       "    <tr style=\"text-align: right;\">\n",
       "      <th></th>\n",
       "      <th>hospital_death</th>\n",
       "      <th>elective_surgery</th>\n",
       "      <th>apache_post_operative</th>\n",
       "      <th>age</th>\n",
       "      <th>gcs_eyes_apache</th>\n",
       "      <th>gcs_motor_apache</th>\n",
       "      <th>gcs_verbal_apache</th>\n",
       "      <th>d1_diasbp_min</th>\n",
       "      <th>d1_diasbp_noninvasive_min</th>\n",
       "      <th>d1_mbp_min</th>\n",
       "      <th>...</th>\n",
       "      <th>d1_albumin_max</th>\n",
       "      <th>d1_albumin_min</th>\n",
       "      <th>ethnicity</th>\n",
       "      <th>gender</th>\n",
       "      <th>icu_admit_source</th>\n",
       "      <th>hospital_admit_source</th>\n",
       "      <th>icu_stay_type</th>\n",
       "      <th>icu_type</th>\n",
       "      <th>apache_3j_bodysystem</th>\n",
       "      <th>apache_2_bodysystem</th>\n",
       "    </tr>\n",
       "  </thead>\n",
       "  <tbody>\n",
       "    <tr>\n",
       "      <th>0</th>\n",
       "      <td>0</td>\n",
       "      <td>0</td>\n",
       "      <td>0</td>\n",
       "      <td>68.0</td>\n",
       "      <td>3.0</td>\n",
       "      <td>6.0</td>\n",
       "      <td>4.0</td>\n",
       "      <td>37.0</td>\n",
       "      <td>37.0</td>\n",
       "      <td>46.0</td>\n",
       "      <td>...</td>\n",
       "      <td>2.3</td>\n",
       "      <td>2.3</td>\n",
       "      <td>Caucasian</td>\n",
       "      <td>M</td>\n",
       "      <td>Floor</td>\n",
       "      <td>Floor</td>\n",
       "      <td>admit</td>\n",
       "      <td>CTICU</td>\n",
       "      <td>Sepsis</td>\n",
       "      <td>Cardiovascular</td>\n",
       "    </tr>\n",
       "    <tr>\n",
       "      <th>1</th>\n",
       "      <td>0</td>\n",
       "      <td>0</td>\n",
       "      <td>0</td>\n",
       "      <td>77.0</td>\n",
       "      <td>1.0</td>\n",
       "      <td>3.0</td>\n",
       "      <td>1.0</td>\n",
       "      <td>31.0</td>\n",
       "      <td>31.0</td>\n",
       "      <td>38.0</td>\n",
       "      <td>...</td>\n",
       "      <td>1.6</td>\n",
       "      <td>1.6</td>\n",
       "      <td>Caucasian</td>\n",
       "      <td>F</td>\n",
       "      <td>Floor</td>\n",
       "      <td>Floor</td>\n",
       "      <td>admit</td>\n",
       "      <td>Med-Surg ICU</td>\n",
       "      <td>Respiratory</td>\n",
       "      <td>Respiratory</td>\n",
       "    </tr>\n",
       "    <tr>\n",
       "      <th>2</th>\n",
       "      <td>0</td>\n",
       "      <td>0</td>\n",
       "      <td>0</td>\n",
       "      <td>25.0</td>\n",
       "      <td>3.0</td>\n",
       "      <td>6.0</td>\n",
       "      <td>5.0</td>\n",
       "      <td>48.0</td>\n",
       "      <td>48.0</td>\n",
       "      <td>68.0</td>\n",
       "      <td>...</td>\n",
       "      <td>NaN</td>\n",
       "      <td>NaN</td>\n",
       "      <td>Caucasian</td>\n",
       "      <td>F</td>\n",
       "      <td>Accident &amp; Emergency</td>\n",
       "      <td>Emergency Department</td>\n",
       "      <td>admit</td>\n",
       "      <td>Med-Surg ICU</td>\n",
       "      <td>Metabolic</td>\n",
       "      <td>Metabolic</td>\n",
       "    </tr>\n",
       "    <tr>\n",
       "      <th>3</th>\n",
       "      <td>0</td>\n",
       "      <td>1</td>\n",
       "      <td>1</td>\n",
       "      <td>81.0</td>\n",
       "      <td>4.0</td>\n",
       "      <td>6.0</td>\n",
       "      <td>5.0</td>\n",
       "      <td>42.0</td>\n",
       "      <td>42.0</td>\n",
       "      <td>84.0</td>\n",
       "      <td>...</td>\n",
       "      <td>NaN</td>\n",
       "      <td>NaN</td>\n",
       "      <td>Caucasian</td>\n",
       "      <td>F</td>\n",
       "      <td>Operating Room / Recovery</td>\n",
       "      <td>Operating Room</td>\n",
       "      <td>admit</td>\n",
       "      <td>CTICU</td>\n",
       "      <td>Cardiovascular</td>\n",
       "      <td>Cardiovascular</td>\n",
       "    </tr>\n",
       "    <tr>\n",
       "      <th>4</th>\n",
       "      <td>0</td>\n",
       "      <td>0</td>\n",
       "      <td>0</td>\n",
       "      <td>19.0</td>\n",
       "      <td>NaN</td>\n",
       "      <td>NaN</td>\n",
       "      <td>NaN</td>\n",
       "      <td>57.0</td>\n",
       "      <td>57.0</td>\n",
       "      <td>90.0</td>\n",
       "      <td>...</td>\n",
       "      <td>NaN</td>\n",
       "      <td>NaN</td>\n",
       "      <td>Caucasian</td>\n",
       "      <td>M</td>\n",
       "      <td>Accident &amp; Emergency</td>\n",
       "      <td>NaN</td>\n",
       "      <td>admit</td>\n",
       "      <td>Med-Surg ICU</td>\n",
       "      <td>Trauma</td>\n",
       "      <td>Trauma</td>\n",
       "    </tr>\n",
       "  </tbody>\n",
       "</table>\n",
       "<p>5 rows × 31 columns</p>\n",
       "</div>"
      ],
      "text/plain": [
       "   hospital_death  elective_surgery  apache_post_operative   age  \\\n",
       "0               0                 0                      0  68.0   \n",
       "1               0                 0                      0  77.0   \n",
       "2               0                 0                      0  25.0   \n",
       "3               0                 1                      1  81.0   \n",
       "4               0                 0                      0  19.0   \n",
       "\n",
       "   gcs_eyes_apache  gcs_motor_apache  gcs_verbal_apache  d1_diasbp_min  \\\n",
       "0              3.0               6.0                4.0           37.0   \n",
       "1              1.0               3.0                1.0           31.0   \n",
       "2              3.0               6.0                5.0           48.0   \n",
       "3              4.0               6.0                5.0           42.0   \n",
       "4              NaN               NaN                NaN           57.0   \n",
       "\n",
       "   d1_diasbp_noninvasive_min  d1_mbp_min  ...  d1_albumin_max  d1_albumin_min  \\\n",
       "0                       37.0        46.0  ...             2.3             2.3   \n",
       "1                       31.0        38.0  ...             1.6             1.6   \n",
       "2                       48.0        68.0  ...             NaN             NaN   \n",
       "3                       42.0        84.0  ...             NaN             NaN   \n",
       "4                       57.0        90.0  ...             NaN             NaN   \n",
       "\n",
       "   ethnicity  gender           icu_admit_source  hospital_admit_source  \\\n",
       "0  Caucasian       M                      Floor                  Floor   \n",
       "1  Caucasian       F                      Floor                  Floor   \n",
       "2  Caucasian       F       Accident & Emergency   Emergency Department   \n",
       "3  Caucasian       F  Operating Room / Recovery         Operating Room   \n",
       "4  Caucasian       M       Accident & Emergency                    NaN   \n",
       "\n",
       "   icu_stay_type      icu_type  apache_3j_bodysystem  apache_2_bodysystem  \n",
       "0          admit         CTICU                Sepsis       Cardiovascular  \n",
       "1          admit  Med-Surg ICU           Respiratory          Respiratory  \n",
       "2          admit  Med-Surg ICU             Metabolic            Metabolic  \n",
       "3          admit         CTICU        Cardiovascular       Cardiovascular  \n",
       "4          admit  Med-Surg ICU                Trauma               Trauma  \n",
       "\n",
       "[5 rows x 31 columns]"
      ]
     },
     "execution_count": 7,
     "metadata": {},
     "output_type": "execute_result"
    }
   ],
   "source": [
    "train_df_miss.head()"
   ]
  },
  {
   "cell_type": "markdown",
   "metadata": {},
   "source": [
    "# Missing data"
   ]
  },
  {
   "cell_type": "code",
   "execution_count": 8,
   "metadata": {
    "scrolled": false
   },
   "outputs": [
    {
     "name": "stdout",
     "output_type": "stream",
     "text": [
      "vars of >0 percent of missing values:\n",
      "age                           4.610033\n",
      "gcs_eyes_apache               2.072770\n",
      "gcs_motor_apache              2.072770\n",
      "gcs_verbal_apache             2.072770\n",
      "d1_diasbp_min                 0.179909\n",
      "d1_diasbp_noninvasive_min     1.133972\n",
      "d1_mbp_min                    0.239879\n",
      "d1_mbp_noninvasive_min        1.612639\n",
      "d1_sysbp_min                  0.173367\n",
      "d1_sysbp_noninvasive_min      1.119798\n",
      "h1_diasbp_noninvasive_min     8.014131\n",
      "h1_mbp_min                    5.058171\n",
      "h1_mbp_noninvasive_min        9.904812\n",
      "h1_sysbp_min                  3.937283\n",
      "h1_sysbp_noninvasive_min      8.004318\n",
      "d1_calcium_min               14.249888\n",
      "d1_calcium_max               14.249888\n",
      "albumin_apache               59.292576\n",
      "d1_albumin_max               53.532215\n",
      "d1_albumin_min               53.532215\n",
      "ethnicity                     1.521049\n",
      "gender                        0.027259\n",
      "icu_admit_source              0.122120\n",
      "hospital_admit_source        23.343474\n",
      "apache_3j_bodysystem          1.812175\n",
      "apache_2_bodysystem           1.812175\n",
      "dtype: float64\n"
     ]
    }
   ],
   "source": [
    "# % of missing\n",
    "pd.set_option('display.max_rows',None) \n",
    "per_missing = train_df_miss.apply(lambda col:sum(col.isnull())/col.size*100)\n",
    "to_impute=per_missing[per_missing!=0].index.to_list()\n",
    "print('Vars of >0 percent of missing values:')\n",
    "print(per_missing[per_missing!=0])"
   ]
  },
  {
   "cell_type": "code",
   "execution_count": 9,
   "metadata": {
    "scrolled": true
   },
   "outputs": [
    {
     "name": "stdout",
     "output_type": "stream",
     "text": [
      "If delete missing records in age: \n",
      "The percentage of death in the new data set is -0.32% lower than train_df.\n",
      "If delete missing records in gcs_eyes_apache: \n",
      "The percentage of death in the new data set is -0.18% lower than train_df.\n",
      "If delete missing records in gcs_motor_apache: \n",
      "The percentage of death in the new data set is -0.18% lower than train_df.\n",
      "If delete missing records in gcs_verbal_apache: \n",
      "The percentage of death in the new data set is -0.18% lower than train_df.\n",
      "If delete missing records in d1_diasbp_min: \n",
      "The percentage of death in the new data set is -0.02% lower than train_df.\n",
      "If delete missing records in d1_diasbp_noninvasive_min: \n",
      "The percentage of death in the new data set is -0.02% lower than train_df.\n",
      "If delete missing records in d1_mbp_min: \n",
      "The percentage of death in the new data set is -0.01% lower than train_df.\n",
      "If delete missing records in d1_mbp_noninvasive_min: \n",
      "The percentage of death in the new data set is 0.0% higher than train_df: 8.63%.\n",
      "If delete missing records in d1_sysbp_min: \n",
      "The percentage of death in the new data set is -0.02% lower than train_df.\n",
      "If delete missing records in d1_sysbp_noninvasive_min: \n",
      "The percentage of death in the new data set is -0.02% lower than train_df.\n",
      "If delete missing records in h1_diasbp_noninvasive_min: \n",
      "The percentage of death in the new data set is 0.19% higher than train_df: 8.82%.\n",
      "If delete missing records in h1_mbp_min: \n",
      "The percentage of death in the new data set is 0.06% higher than train_df: 8.69%.\n",
      "If delete missing records in h1_mbp_noninvasive_min: \n",
      "The percentage of death in the new data set is 0.27% higher than train_df: 8.9%.\n",
      "If delete missing records in h1_sysbp_min: \n",
      "The percentage of death in the new data set is 0.03% higher than train_df: 8.66%.\n",
      "If delete missing records in h1_sysbp_noninvasive_min: \n",
      "The percentage of death in the new data set is 0.19% higher than train_df: 8.82%.\n",
      "If delete missing records in d1_calcium_min: \n",
      "The percentage of death in the new data set is 0.07% higher than train_df: 8.7%.\n",
      "If delete missing records in d1_calcium_max: \n",
      "The percentage of death in the new data set is 0.07% higher than train_df: 8.7%.\n",
      "If delete missing records in albumin_apache: \n",
      "The percentage of death in the new data set is 2.5% higher than train_df: 11.13%.\n",
      "If delete missing records in d1_albumin_max: \n",
      "The percentage of death in the new data set is 2.41% higher than train_df: 11.04%.\n",
      "If delete missing records in d1_albumin_min: \n",
      "The percentage of death in the new data set is 2.41% higher than train_df: 11.04%.\n",
      "If delete missing records in ethnicity: \n",
      "The percentage of death in the new data set is 0.02% higher than train_df: 8.65%.\n",
      "If delete missing records in gender: \n",
      "The percentage of death in the new data set is -0.01% lower than train_df.\n",
      "If delete missing records in icu_admit_source: \n",
      "The percentage of death in the new data set is 0.0% higher than train_df: 8.63%.\n",
      "If delete missing records in hospital_admit_source: \n",
      "The percentage of death in the new data set is 0.15% higher than train_df: 8.78%.\n",
      "If delete missing records in apache_3j_bodysystem: \n",
      "The percentage of death in the new data set is 0.01% higher than train_df: 8.64%.\n",
      "If delete missing records in apache_2_bodysystem: \n",
      "The percentage of death in the new data set is 0.01% higher than train_df: 8.64%.\n"
     ]
    }
   ],
   "source": [
    "# Whether deleting var will affect hospital death rate?\n",
    "for col in to_impute:\n",
    "    del_missing(train_df_miss,col)"
   ]
  },
  {
   "cell_type": "markdown",
   "metadata": {},
   "source": [
    "So albumin_apache, d1_albumin_max,d1_albumin_min are affecting hospital_death more than other vars. "
   ]
  },
  {
   "cell_type": "markdown",
   "metadata": {},
   "source": [
    "# Imputation"
   ]
  },
  {
   "cell_type": "code",
   "execution_count": 12,
   "metadata": {},
   "outputs": [],
   "source": [
    "train_df_impute=train_df_miss"
   ]
  },
  {
   "cell_type": "code",
   "execution_count": 13,
   "metadata": {
    "scrolled": true
   },
   "outputs": [
    {
     "name": "stdout",
     "output_type": "stream",
     "text": [
      "<class 'pandas.core.frame.DataFrame'>\n",
      "Int64Index: 91713 entries, 0 to 91712\n",
      "Data columns (total 31 columns):\n",
      " #   Column                     Non-Null Count  Dtype   \n",
      "---  ------                     --------------  -----   \n",
      " 0   hospital_death             91713 non-null  int64   \n",
      " 1   elective_surgery           91713 non-null  int64   \n",
      " 2   apache_post_operative      91713 non-null  int64   \n",
      " 3   age                        91713 non-null  float64 \n",
      " 4   gcs_eyes_apache            91713 non-null  float64 \n",
      " 5   gcs_motor_apache           91713 non-null  float64 \n",
      " 6   gcs_verbal_apache          91713 non-null  float64 \n",
      " 7   d1_diasbp_min              91713 non-null  float64 \n",
      " 8   d1_diasbp_noninvasive_min  91713 non-null  float64 \n",
      " 9   d1_mbp_min                 91713 non-null  float64 \n",
      " 10  d1_mbp_noninvasive_min     91713 non-null  float64 \n",
      " 11  d1_sysbp_min               91713 non-null  float64 \n",
      " 12  d1_sysbp_noninvasive_min   91713 non-null  float64 \n",
      " 13  h1_diasbp_noninvasive_min  91713 non-null  float64 \n",
      " 14  h1_mbp_min                 91713 non-null  float64 \n",
      " 15  h1_mbp_noninvasive_min     91713 non-null  float64 \n",
      " 16  h1_sysbp_min               91713 non-null  float64 \n",
      " 17  h1_sysbp_noninvasive_min   91713 non-null  float64 \n",
      " 18  d1_calcium_min             91713 non-null  float64 \n",
      " 19  d1_calcium_max             91713 non-null  float64 \n",
      " 20  albumin_apache             91713 non-null  float64 \n",
      " 21  d1_albumin_max             91713 non-null  float64 \n",
      " 22  d1_albumin_min             91713 non-null  float64 \n",
      " 23  ethnicity                  90318 non-null  category\n",
      " 24  gender                     91688 non-null  category\n",
      " 25  icu_admit_source           91601 non-null  category\n",
      " 26  hospital_admit_source      70304 non-null  category\n",
      " 27  icu_stay_type              91713 non-null  category\n",
      " 28  icu_type                   91713 non-null  category\n",
      " 29  apache_3j_bodysystem       90051 non-null  category\n",
      " 30  apache_2_bodysystem        90051 non-null  category\n",
      "dtypes: category(8), float64(20), int64(3)\n",
      "memory usage: 17.5 MB\n"
     ]
    },
    {
     "name": "stderr",
     "output_type": "stream",
     "text": [
      "/opt/anaconda3/lib/python3.7/site-packages/pandas/core/generic.py:6245: SettingWithCopyWarning: \n",
      "A value is trying to be set on a copy of a slice from a DataFrame\n",
      "\n",
      "See the caveats in the documentation: https://pandas.pydata.org/pandas-docs/stable/user_guide/indexing.html#returning-a-view-versus-a-copy\n",
      "  self._update_inplace(new_data)\n"
     ]
    }
   ],
   "source": [
    "for var in to_impute:\n",
    "    if train_df_impute[var].dtypes == 'float64':\n",
    "        train_df_impute[var].fillna(train_df_impute[var].mean(),inplace=True)\n",
    "\n",
    "train_df_impute.info(verbose=True, null_counts=True)\n"
   ]
  },
  {
   "cell_type": "code",
   "execution_count": 1,
   "metadata": {
    "scrolled": true
   },
   "outputs": [],
   "source": [
    "# feature before & after imputation\n",
    "plot_feature(train_df_imputed,'albumin_apache')\n",
    "plot_feature(train_df,'albumin_apache')\n"
   ]
  },
  {
   "cell_type": "code",
   "execution_count": 2,
   "metadata": {
    "scrolled": true
   },
   "outputs": [],
   "source": [
    "# feature before & after imputation\n",
    "plot_feature(train_df_imputed,'d1_albumin_max')\n",
    "plot_feature(train_df,'d1_albumin_max')\n"
   ]
  },
  {
   "cell_type": "code",
   "execution_count": 3,
   "metadata": {
    "scrolled": true
   },
   "outputs": [],
   "source": [
    "# feature before & after imputation\n",
    "plot_feature(train_df_imputed,'d1_albumin_min')\n",
    "plot_feature(train_df,'d1_albumin_min')\n"
   ]
  },
  {
   "cell_type": "code",
   "execution_count": 15,
   "metadata": {},
   "outputs": [],
   "source": [
    "train_df_impute.to_csv('train_df_imputed.csv')"
   ]
  }
 ],
 "metadata": {
  "kernelspec": {
   "display_name": "Python 3",
   "language": "python",
   "name": "python3"
  },
  "language_info": {
   "codemirror_mode": {
    "name": "ipython",
    "version": 3
   },
   "file_extension": ".py",
   "mimetype": "text/x-python",
   "name": "python",
   "nbconvert_exporter": "python",
   "pygments_lexer": "ipython3",
   "version": "3.7.6"
  }
 },
 "nbformat": 4,
 "nbformat_minor": 4
}
